{
 "cells": [
  {
   "cell_type": "markdown",
   "id": "09036607",
   "metadata": {},
   "source": [
    "# Creating a Game\n",
    "\n",
    "For this exercise, we'll be building a simple text game! The game, __Hangman__ will require us to guess letter. The computer will then tell us if those letters are in the word that the computer (and maybe us!) has chosen. Before we begin, let's make sure we have a good understanding of the __state__ of the game."
   ]
  },
  {
   "cell_type": "markdown",
   "id": "ec40b529",
   "metadata": {},
   "source": [
    "### Game State\n",
    "\n",
    "The state of a game includes all of the information necessary for the game to be played. What is that in this case? Keep in mind, some of the information may be hidden to the players. What information is hidden and visible in this game?\n",
    "\n",
    "#### Hidden State\n",
    "__FILL THIS IN__\n",
    "\n",
    "#### Visible State\n",
    "__FILL THIS IN__"
   ]
  },
  {
   "cell_type": "code",
   "execution_count": 4,
   "id": "be7d6398",
   "metadata": {},
   "outputs": [],
   "source": [
    "# This cell loads in the 1000 most common words from `1-1000.txt` and puts them in a list called \"common_words\"\n",
    "word_file = open(\"1-1000.txt\")\n",
    "common_word_file = word_file.read()\n",
    "common_words = common_word_file.split(\"\\n\")"
   ]
  },
  {
   "cell_type": "code",
   "execution_count": 5,
   "id": "08edd46f",
   "metadata": {},
   "outputs": [],
   "source": [
    "# Write your game here!"
   ]
  }
 ],
 "metadata": {
  "kernelspec": {
   "display_name": "Python 3 (ipykernel)",
   "language": "python",
   "name": "python3"
  },
  "language_info": {
   "codemirror_mode": {
    "name": "ipython",
    "version": 3
   },
   "file_extension": ".py",
   "mimetype": "text/x-python",
   "name": "python",
   "nbconvert_exporter": "python",
   "pygments_lexer": "ipython3",
   "version": "3.12.3"
  }
 },
 "nbformat": 4,
 "nbformat_minor": 5
}
